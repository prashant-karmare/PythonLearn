{
  "nbformat": 4,
  "nbformat_minor": 0,
  "metadata": {
    "colab": {
      "name": "Advertise.ipynb",
      "provenance": [],
      "collapsed_sections": [],
      "authorship_tag": "ABX9TyOae8cynW/6wF9xZe3icm3r",
      "include_colab_link": true
    },
    "kernelspec": {
      "name": "python3",
      "display_name": "Python 3"
    },
    "language_info": {
      "name": "python"
    }
  },
  "cells": [
    {
      "cell_type": "markdown",
      "metadata": {
        "id": "view-in-github",
        "colab_type": "text"
      },
      "source": [
        "<a href=\"https://colab.research.google.com/github/prashant-karmare/PythonLearn/blob/main/Assignment13-Advertise/Advertise.ipynb\" target=\"_parent\"><img src=\"https://colab.research.google.com/assets/colab-badge.svg\" alt=\"Open In Colab\"/></a>"
      ]
    },
    {
      "cell_type": "code",
      "metadata": {
        "colab": {
          "base_uri": "https://localhost:8080/"
        },
        "id": "LCnp-2_BxzX8",
        "outputId": "83a974c2-0499-46ed-9ccc-b21762088456"
      },
      "source": [
        "from google.colab import files\n",
        "import numpy as np\n",
        "#from sklearn.neighbors import KNeighborsClassifier\n",
        "import pandas as pd\n",
        "#from sklearn import preprocessing\n",
        "import matplotlib.pyplot as plt\n",
        "from sklearn.linear_model import LinearRegression\n",
        "from sklearn.metrics import mean_squared_error,r2_score\n",
        "from sklearn.model_selection import train_test_split\n",
        "\n",
        "uploadedfile = None\n",
        "def uploadLocalFile():\n",
        "  global uploadedfile\n",
        "  uploaded = files.upload()\n",
        "  #print('uploaded',uploaded)\n",
        "  for fn in uploaded.keys():\n",
        "    print('User uploaded file \"{name}\" with length {length} bytes'.format(\n",
        "        name=fn, length=len(uploaded[fn])))\n",
        "    #print('File**',uploaded[fn])\n",
        "  return next(iter(uploaded)) \n",
        "\n",
        " \n",
        "def AdvertisePredict(Name):\n",
        "    dataset = pd.read_csv(Name)\n",
        "    print(\"Size of our Data set is \",dataset.shape)\n",
        "    dataset.columns = [\"no\",\"x1\", \"x2\",\"x3\", \"y\"]\n",
        "    X = dataset.iloc[:, :-1].values\n",
        "    Y= dataset.iloc[:, -1:].values\n",
        "    \n",
        "    \"\"\"\n",
        "    #print('X==',X.shape)\n",
        "    #X = X.reshape((-1,1))\n",
        "    TV =  X[\"TV\"].values\n",
        "    Radio = X[\"radio\"].values\n",
        "    NewsPaper= X[\"newspaper\"].values\n",
        "    FeatureDS = list(zip(TV,Radio,NewsPaper))\n",
        "    \"\"\"\n",
        "    print(\"Length of X \",len(X))\n",
        "    print(\"Length of Y \",len(Y))\n",
        "  \n",
        "    \n",
        "\n",
        "    data_train,data_test,target_train,target_test = train_test_split(X,Y,test_size=0.3)\n",
        "    \n",
        "    obj = LinearRegression()\n",
        "    obj.fit(data_train,target_train)\n",
        "    \n",
        "    output = obj.predict(data_test)\n",
        "  \n",
        "  \n",
        "    print('Coefficients: \\n', obj.coef_)\n",
        "    print('Mean squared error: %.2f'% mean_squared_error(target_test, output))\n",
        "\n",
        "    # The coefficient of determination: 1 is perfect prediction\n",
        "    print('Coefficient of determination: %.2f'%r2_score(target_test, output))\n",
        "\n",
        "    \n",
        "    \n",
        "    rsquare = obj.score(data_test,output)\n",
        "    rsquare2 = obj.score(X,Y)\n",
        "    print(\"Value of R Square is : \",rsquare)\n",
        "    print(\"Value of R rsquare2 is : \",rsquare2)\n",
        "\n",
        "    \"\"\"\n",
        "   ----Not Able to Plot------\n",
        "\n",
        "    # Plot outputs\n",
        "    print(\" data_test \",len(data_test))\n",
        "    print(\"target_test \",len(target_test))\n",
        "\n",
        "    data_test.columns = [\"x1\", \"x2\",\"x3\"]\n",
        "    plt.scatter(data_test[\"x1\"], target_test,  color='red')\n",
        "    plt.scatter(data_test[\"x2\"], target_test,  color='green')\n",
        "    plt.scatter(data_test[\"x3\"], target_test,  color='yellow')\n",
        "    plt.plot(data_test, output, color='blue', linewidth=3)\n",
        "    plt.xlabel(\"Features\")\n",
        "    plt.ylabel(\"Sales\")\n",
        "    plt.xticks(())\n",
        "    plt.yticks(())\n",
        "\n",
        "    plt.show()\n",
        "  \"\"\"\n",
        "def main():\n",
        "    #print(\"Enter File Name of dataSet : \")\n",
        "    #filename = input()\n",
        "   # filename = uploadLocalFile()\n",
        "    #AdvertisePredict(filename)   \n",
        "    AdvertisePredict(\"Advertising.csv\")\n",
        " \n",
        " \n",
        " \n",
        "if __name__ == \"__main__\":\n",
        "    main()"
      ],
      "execution_count": 34,
      "outputs": [
        {
          "output_type": "stream",
          "text": [
            "Size of our Data set is  (200, 5)\n",
            "Length of X  200\n",
            "Length of Y  200\n",
            "Coefficients: \n",
            " [[-0.00077339  0.04471593  0.18374009 -0.00041042]]\n",
            "Mean squared error: 2.21\n",
            "Coefficient of determination: 0.93\n",
            "Value of R Square is :  1.0\n",
            "Value of R rsquare2 is :  0.8964379636043743\n"
          ],
          "name": "stdout"
        }
      ]
    }
  ]
}